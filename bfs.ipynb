{
 "cells": [
  {
   "cell_type": "code",
   "execution_count": 9,
   "id": "de46aece",
   "metadata": {},
   "outputs": [],
   "source": [
    "def bfs(visited, graph, queue):\n",
    "    if not queue:\n",
    "        return\n",
    "    node = queue.pop(0)\n",
    "    print(node, end=\" \")\n",
    "    for neighbor in graph[node]:\n",
    "        if neighbor not in visited:\n",
    "            visited.add(neighbor)\n",
    "            queue.append(neighbor)\n",
    "    bfs(visited, graph, queue)"
   ]
  },
  {
   "cell_type": "code",
   "execution_count": 13,
   "id": "76dbefc5",
   "metadata": {},
   "outputs": [
    {
     "name": "stdout",
     "output_type": "stream",
     "text": [
      "Enter mumber of nodes:5\n",
      "Enter number of edges for node1: 3\n",
      "Enter edge 1 for node 1: 2\n",
      "Enter edge 2 for node 1: 4\n",
      "Enter edge 3 for node 1: 5\n",
      "Enter number of edges for node2: 2\n",
      "Enter edge 1 for node 2: 1\n",
      "Enter edge 2 for node 2: 5\n",
      "Enter number of edges for node3: 2\n",
      "Enter edge 1 for node 3: 4\n",
      "Enter edge 2 for node 3: 5\n",
      "Enter number of edges for node4: 2\n",
      "Enter edge 1 for node 4: 1\n",
      "Enter edge 2 for node 4: 3\n",
      "Enter number of edges for node5: 3\n",
      "Enter edge 1 for node 5: 1\n",
      "Enter edge 2 for node 5: 2\n",
      "Enter edge 3 for node 5: 3\n",
      "Enter the starting node: 1\n",
      "The following is BFS: \n",
      "1 2 4 5 3 "
     ]
    }
   ],
   "source": [
    "visited= set () #To keep track of BFS visited nodes\n",
    "queue= [] #For BFS\n",
    "graph= dict()\n",
    "n=int(input(\"Enter mumber of nodes:\")) #number of nodes\n",
    "for i in range(1,n+1):\n",
    "    edges= int(input(\"Enter number of edges for node{}: \".format (i))) #input for number of connections\n",
    "    graph[i]= [] #adding node in graph\n",
    "       \n",
    "    for j in range (1, edges+1): #input for connected nodes\n",
    "        node= int (input(\"Enter edge {} for node {}: \".format (j,i))) \n",
    "        #adding connections\n",
    "        graph[i].append(node)\n",
    "start_node = int(input(\"Enter the starting node: \"))\n",
    "visited.add (start_node) #add current node to visited\n",
    "queue.append(start_node) #add visited node in queue\n",
    "print(\"The following is BFS: \") \n",
    "bfs(visited, graph, queue)"
   ]
  },
  {
   "cell_type": "code",
   "execution_count": null,
   "id": "56458320",
   "metadata": {},
   "outputs": [],
   "source": []
  },
  {
   "cell_type": "code",
   "execution_count": null,
   "id": "d781c190",
   "metadata": {},
   "outputs": [],
   "source": []
  }
 ],
 "metadata": {
  "kernelspec": {
   "display_name": "Python 3 (ipykernel)",
   "language": "python",
   "name": "python3"
  },
  "language_info": {
   "codemirror_mode": {
    "name": "ipython",
    "version": 3
   },
   "file_extension": ".py",
   "mimetype": "text/x-python",
   "name": "python",
   "nbconvert_exporter": "python",
   "pygments_lexer": "ipython3",
   "version": "3.11.5"
  }
 },
 "nbformat": 4,
 "nbformat_minor": 5
}
