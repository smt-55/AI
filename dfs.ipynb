{
 "cells": [
  {
   "cell_type": "code",
   "execution_count": 9,
   "id": "8e39a231",
   "metadata": {},
   "outputs": [
    {
     "name": "stdout",
     "output_type": "stream",
     "text": [
      "Enter Number Of Nodes:6\n",
      "Enter Number Of Edges For Node 1:3\n",
      "Enter Edges 1 For Node 1:2\n",
      "Enter Edges 2 For Node 1:3\n",
      "Enter Edges 3 For Node 1:4\n",
      "Enter Number Of Edges For Node 2:3\n",
      "Enter Edges 1 For Node 2:1\n",
      "Enter Edges 2 For Node 2:6\n",
      "Enter Edges 3 For Node 2:5\n",
      "Enter Number Of Edges For Node 3:2\n",
      "Enter Edges 1 For Node 3:1\n",
      "Enter Edges 2 For Node 3:5\n",
      "Enter Number Of Edges For Node 4:1\n",
      "Enter Edges 1 For Node 4:1\n",
      "Enter Number Of Edges For Node 5:2\n",
      "Enter Edges 1 For Node 5:2\n",
      "Enter Edges 2 For Node 5:3\n",
      "Enter Number Of Edges For Node 6:1\n",
      "Enter Edges 1 For Node 6:2\n",
      "The Following DFS is:\n",
      "1 2 6 5 3 4 "
     ]
    }
   ],
   "source": [
    "def dfs(visited,graph,node):\n",
    "    if node not in visited:\n",
    "        print(node,end=\" \")\n",
    "        visited.add(node)\n",
    "        for neighbour in graph[node]:\n",
    "            dfs(visited, graph, neighbour)\n",
    "\n",
    "visited=set()\n",
    "graph=dict()\n",
    "n=int(input(\"Enter Number Of Nodes:\"))\n",
    "for i in range(1,n+1):\n",
    "    edge=int(input(\"Enter Number Of Edges For Node {}:\".format(i)))\n",
    "    graph[i]=[]\n",
    "    for j in range(1,edge+1):\n",
    "        node=int(input(\"Enter Edges {} For Node {}:\".format(j,i)))\n",
    "        graph[i].append(node)\n",
    "print(\"The Following DFS is:\")\n",
    "dfs(visited,graph,1)"
   ]
  },
  {
   "cell_type": "code",
   "execution_count": null,
   "id": "99341601",
   "metadata": {},
   "outputs": [],
   "source": []
  }
 ],
 "metadata": {
  "kernelspec": {
   "display_name": "Python 3 (ipykernel)",
   "language": "python",
   "name": "python3"
  },
  "language_info": {
   "codemirror_mode": {
    "name": "ipython",
    "version": 3
   },
   "file_extension": ".py",
   "mimetype": "text/x-python",
   "name": "python",
   "nbconvert_exporter": "python",
   "pygments_lexer": "ipython3",
   "version": "3.11.5"
  }
 },
 "nbformat": 4,
 "nbformat_minor": 5
}
